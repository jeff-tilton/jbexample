{
 "cells": [
  {
   "cell_type": "markdown",
   "metadata": {},
   "source": [
    "# Intro\n",
    "\n",
    "This is a Jupyter Book example to show that Bokeh plots often do not work once a cell tag is used.\n",
    "\n",
    "The following 2 chapters are identical except that **Remove Input** has additional cell tags to remove a cell or the cell input, **Show Input** does not have any cell tags.  The bokeh plot in **Show Input** works as expected.  **Remove Input** does not have any plot and on console inspection shows the error:\n",
    "\n",
    " `Bokeh: ERROR: Unable to run BokehJS code because BokehJS library is missing`\n"
   ]
  }
 ],
 "metadata": {
  "language_info": {
   "name": "python"
  },
  "orig_nbformat": 4
 },
 "nbformat": 4,
 "nbformat_minor": 2
}
